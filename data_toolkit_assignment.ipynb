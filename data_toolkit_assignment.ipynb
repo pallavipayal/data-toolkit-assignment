{
  "nbformat": 4,
  "nbformat_minor": 0,
  "metadata": {
    "colab": {
      "provenance": []
    },
    "kernelspec": {
      "name": "python3",
      "display_name": "Python 3"
    },
    "language_info": {
      "name": "python"
    }
  },
  "cells": [
    {
      "cell_type": "markdown",
      "source": [
        "#Data Toolkit\n",
        "\n",
        "---\n",
        "\n"
      ],
      "metadata": {
        "id": "nFM0r-gImuwS"
      }
    },
    {
      "cell_type": "markdown",
      "source": [
        "###1. What is NumPy, and why is it widely used in Python?"
      ],
      "metadata": {
        "id": "S7RM3501mu6a"
      }
    },
    {
      "cell_type": "markdown",
      "source": [
        "=> NumPy, short for Numerical Python, is a fundamental library in the Python ecosystem. It provides powerful tools for numerical computing, making it a cornerstone for scientific computing, data science, and machine learning in Python."
      ],
      "metadata": {
        "id": "a6lJ65gDq7Bv"
      }
    },
    {
      "cell_type": "markdown",
      "source": [
        "###2.  How does broadcasting work in NumPy?"
      ],
      "metadata": {
        "id": "n021rZS-mvEc"
      }
    },
    {
      "cell_type": "markdown",
      "source": [
        "=> Broadcasting in NumPy is a powerful mechanism that allows you to perform arithmetic operations on arrays of different shapes, even if they aren't perfectly aligned.  It avoids the need for explicit looping or reshaping in many cases, making your code more concise and efficient.  Think of it as NumPy intelligently \"stretching\" the smaller array to match the shape of the larger array for the operation."
      ],
      "metadata": {
        "id": "2SIo3_MhrS1G"
      }
    },
    {
      "cell_type": "markdown",
      "source": [
        "###3. What is a Pandas DataFrame?"
      ],
      "metadata": {
        "id": "SA-hfG7VmvJq"
      }
    },
    {
      "cell_type": "markdown",
      "source": [
        "=> A Pandas DataFrame is a two-dimensional labeled data structure in the Python Pandas library.  It's a fundamental object in data analysis with Python.  You can think of it like a table, or a spreadsheet, with rows and columns.  However, it's much more powerful than a simple table."
      ],
      "metadata": {
        "id": "Iy77rnq4rl1u"
      }
    },
    {
      "cell_type": "markdown",
      "source": [
        "###4. Explain the use of the groupby() method in Pandas."
      ],
      "metadata": {
        "id": "StwJWQv8mvNY"
      }
    },
    {
      "cell_type": "markdown",
      "source": [
        "=> The groupby() method in Pandas is a powerful and versatile tool for data manipulation and analysis. It allows you to split a DataFrame into groups based on the values in one or more columns, and then apply a function to each group 1  independently. This is a fundamental operation for tasks like aggregation, transformation, and filtering."
      ],
      "metadata": {
        "id": "UpoWy9JJr1zB"
      }
    },
    {
      "cell_type": "markdown",
      "source": [
        "###5. Why is Seaborn preferred for statistical visualizations?"
      ],
      "metadata": {
        "id": "EOrKDVnsmvQu"
      }
    },
    {
      "cell_type": "markdown",
      "source": [
        "=> Seaborn is often preferred for statistical visualizations because it builds upon Matplotlib and provides a high-level interface that simplifies the creation of complex and informative statistical graphics.\n",
        "\n"
      ],
      "metadata": {
        "id": "iBbmKuSWr2Ze"
      }
    },
    {
      "cell_type": "markdown",
      "source": [
        "###6. What are the differences between NumPy arrays and Python lists?"
      ],
      "metadata": {
        "id": "E1-hYGp1mvUU"
      }
    },
    {
      "cell_type": "markdown",
      "source": [
        "=>  While both NumPy arrays and Python lists are used to store collections of data, they have some fundamental differences that make them suitable for different purposes.\n",
        "\n",
        "NumPy arrays are designed to hold elements of the same data type (e.g., all integers, all floats). This homogeneity allows NumPy to optimize memory usage and perform operations more efficiently.  Python lists can store elements of different data types within the same list. This flexibility makes them more versatile for general-purpose storage but can introduce some overhead.\n"
      ],
      "metadata": {
        "id": "NnjqBKiFr3LW"
      }
    },
    {
      "cell_type": "markdown",
      "source": [
        "###7. What is a heatmap, and when should it be used?"
      ],
      "metadata": {
        "id": "srNlNWt5mvXp"
      }
    },
    {
      "cell_type": "markdown",
      "source": [
        "=> A heatmap is a graphical representation of data where values are depicted by varying colors.\n",
        " Think of it like a color-coded table or matrix.  The color intensity or hue corresponds to the magnitude of the data value.  Darker or more intense colors usually represent higher values, while lighter or less intense colors represent lower values.  Heatmaps are excellent for visualizing patterns, correlations, and variations in data, especially when dealing with large datasets."
      ],
      "metadata": {
        "id": "wz3vM-DatC4X"
      }
    },
    {
      "cell_type": "markdown",
      "source": [
        "###8. What does the term “vectorized operation” mean in NumPy?"
      ],
      "metadata": {
        "id": "HAlHpOrzmva2"
      }
    },
    {
      "cell_type": "markdown",
      "source": [
        "=> In NumPy, a vectorized operation refers to performing an operation on an entire array (or a selection of elements within an array) at once, rather than iterating through the array element by element.  It's a way to express operations on entire data structures as a single, high-level operation.  This is a core concept in NumPy and is crucial for its performance advantages."
      ],
      "metadata": {
        "id": "kVAIFVTgtDV_"
      }
    },
    {
      "cell_type": "markdown",
      "source": [
        "###9.How does Matplotlib differ from Plotly?"
      ],
      "metadata": {
        "id": "aRETcKC6mvdu"
      }
    },
    {
      "cell_type": "markdown",
      "source": [
        "=> Matplotlib and Plotly are both popular Python libraries used for data visualization, but they have some key differences:\n",
        "\n",
        "Matplotlib:\n",
        "\n",
        "Static visualizations: Matplotlib primarily creates static, non-interactive plots.\n",
        "Highly customizable: It offers a high degree of control over every aspect of the plot, but this can require more code.\n",
        "Widely used: It's a mature and widely used library, making it well-integrated with other Python libraries.\n",
        "\n",
        " Plotly:\n",
        "\n",
        "Interactive visualizations: Plotly excels at creating interactive plots that can be easily shared and embedded online.\n",
        "Web-based: It's designed for web-based visualizations, making it ideal for dashboards and web applications.\n",
        "Easier to use: It often requires less code to create visually appealing plots, especially for interactive ones.\n",
        "\n"
      ],
      "metadata": {
        "id": "IoBPhLY5z7tW"
      }
    },
    {
      "cell_type": "markdown",
      "source": [
        "###10. What is the significance of hierarchical indexing in Pandas?"
      ],
      "metadata": {
        "id": "ayXg3B5Jmvlg"
      }
    },
    {
      "cell_type": "markdown",
      "source": [
        "=> Hierarchical indexing, also known as MultiIndexing, is a powerful feature in Pandas that allows you to have multiple levels of indexing on a single axis (rows or columns) of a DataFrame or Series. This enables you to work with higher-dimensional data in a more organized and efficient way."
      ],
      "metadata": {
        "id": "uvPhsFyGz8dr"
      }
    },
    {
      "cell_type": "markdown",
      "source": [
        "###11. What is the role of Seaborn’s pairplot() function?"
      ],
      "metadata": {
        "id": "OzSDW_pBmvoy"
      }
    },
    {
      "cell_type": "markdown",
      "source": [
        "=> Seaborn's pairplot() function is a powerful tool for visualizing relationships between multiple variables in a dataset. It creates a grid of plots where each subplot shows the relationship between two different variables.  Think of it as a quick way to get a bird's-eye view of how all your numerical columns interact."
      ],
      "metadata": {
        "id": "2hPO97wT0gF9"
      }
    },
    {
      "cell_type": "markdown",
      "source": [
        "###12. What is the purpose of the describe() function in Pandas?"
      ],
      "metadata": {
        "id": "fU9NWfSxmvry"
      }
    },
    {
      "cell_type": "markdown",
      "source": [
        "=> The describe() function in Pandas is a very handy tool for getting a quick statistical overview of your data, especially for numerical columns.  It calculates and returns several descriptive statistics that help you understand the distribution and characteristics of your data."
      ],
      "metadata": {
        "id": "sW4kQxYT0gzj"
      }
    },
    {
      "cell_type": "markdown",
      "source": [
        "###13. Why is handling missing data important in Pandas?"
      ],
      "metadata": {
        "id": "GnFZ4QbTmvu8"
      }
    },
    {
      "cell_type": "markdown",
      "source": [
        "=> Handling missing data is crucial in Pandas (and data analysis in general) for several important reasons:\n",
        "\n",
        " Missing data can significantly skew your statistical analyses.  If you ignore missing values or treat them incorrectly (e.g., by filling them with a meaningless value like 0 when it shouldn't be 0), your results can be misleading and lead to incorrect conclusions.  For example, calculating the average of a column with missing values without properly handling them will likely result in a biased average.  Many data analysis and machine learning algorithms cannot handle missing data directly.\n",
        "\n",
        "  Trying to use such algorithms with missing values can lead to errors or unexpected behavior.  Pandas provides tools to prepare your data for these algorithms.\n",
        "\n"
      ],
      "metadata": {
        "id": "KtIvi66E0jFK"
      }
    },
    {
      "cell_type": "markdown",
      "source": [
        "###14.What are the benefits of using Plotly for data visualization?"
      ],
      "metadata": {
        "id": "4r3Xv7hlmvyD"
      }
    },
    {
      "cell_type": "markdown",
      "source": [
        "=> Plotly offers several compelling benefits for data visualization:\n",
        "\n",
        "Plotly excels at creating interactive plots.  Users can zoom, pan, hover over data points to see details, and often even manipulate the data directly within the plot. This makes exploring data much more engaging and insightful. Plotly visualizations are designed to be displayed in web browsers. This makes them easy to share and embed in web applications, dashboards, or presentations.  You can easily share your interactive visualizations with others without them needing to install any software. Plotly supports a wide range of chart types, from basic scatter plots and line charts to more complex visualizations like 3D plots, heatmaps, and geographic maps.It gives you the flexibility to choose the best visualization for your data.\n",
        "\n"
      ],
      "metadata": {
        "id": "4DOUS12j1Whd"
      }
    },
    {
      "cell_type": "markdown",
      "source": [
        "###15. How does NumPy handle multidimensional arrays?"
      ],
      "metadata": {
        "id": "vdSaPGO0mv0y"
      }
    },
    {
      "cell_type": "markdown",
      "source": [
        "=> NumPy is a fundamental library in Python for numerical computing, and its handling of multidimensional arrays is one of its core strengths.\n",
        "\n",
        "Imagine a regular Python list. It's a sequence of items. A multidimensional array is like a list, but it can have multiple \"dimensions\" or \"axes.\" Think of it as a grid or a table, but it can extend beyond two dimensions (like a cube or even more complex shapes).\n",
        "\n",
        "Homogeneous Data: NumPy arrays store elements of the same data type (e.g., all integers, all floats). This is a key difference from Python lists, which can hold mixed data types. This homogeneity allows NumPy to optimize memory storage and operations.\n",
        "\n",
        "Contiguous Memory: NumPy arrays are stored in contiguous blocks of memory. This means the elements are placed next to each other in memory, which makes accessing and processing them much faster.\n",
        "\n",
        "Optimized Operations: NumPy provides a wide range of functions for working with arrays, and these functions are highly optimized for performance. They often use vectorized operations, which means they can perform calculations on entire arrays at once, rather than looping through individual elements."
      ],
      "metadata": {
        "id": "LnY9XsYJ1XJB"
      }
    },
    {
      "cell_type": "markdown",
      "source": [
        "###16. What is the role of Bokeh in data visualization?"
      ],
      "metadata": {
        "id": "KnTSMhqcpJRj"
      }
    },
    {
      "cell_type": "markdown",
      "source": [
        "=>Bokeh is a Python library specifically designed for creating interactive visualizations in web browsers.\n",
        "\n",
        "Interactive Plots: Bokeh's primary focus is on interactivity. It allows you to create plots where users can zoom, pan, select data points, and often even manipulate the data directly within the visualization. This makes exploring data much more engaging and insightful.\n",
        "Modern Web Browsers: Bokeh generates visualizations that are displayed using HTML and JavaScript in web browsers. This makes them easily shareable and embeddable in web applications or dashboards.\n",
        "Large Datasets: Bokeh is designed to handle large datasets efficiently, making it suitable for complex visualizations with lots of data points.\n",
        "\n"
      ],
      "metadata": {
        "id": "_aG0eGWK2TCl"
      }
    },
    {
      "cell_type": "markdown",
      "source": [
        "###17. Explain the difference between apply() and map() in Pandas?"
      ],
      "metadata": {
        "id": "Eskw1d7fpJiv"
      }
    },
    {
      "cell_type": "markdown",
      "source": [
        "=> Both apply() and map() are used in Pandas to apply a function to data, but they operate at different levels and have distinct use cases.  Understanding the nuances of each is key to efficient data manipulation.\n",
        "\n",
        "map():\n",
        "\n",
        "Element-wise Transformation: map() is specifically designed to work on a Series (a single column of a DataFrame). It applies a function to each individual element in the Series. Think of it as transforming each value in a column one by one.\n",
        "Series Input, Series Output: map() takes a Series as input and returns a new Series with the transformed values.\n",
        "\n",
        "apply():\n",
        "\n",
        "More Flexible: apply() is more versatile. It can be used on both Series and DataFrames.\n",
        "Operates Along an Axis: When used on a DataFrame, apply() can operate either along the rows (applying a function to each row) or along the columns (applying a function to each column).\n",
        "Series or DataFrame Input, Series or DataFrame Output: The input and output types of apply() can be Series or DataFrames, depending on how it's used.\n",
        "\n"
      ],
      "metadata": {
        "id": "W8N-DiU02T8j"
      }
    },
    {
      "cell_type": "markdown",
      "source": [
        "###18. What are some advanced features of NumPy?"
      ],
      "metadata": {
        "id": "MXb559AgpJzw"
      }
    },
    {
      "cell_type": "markdown",
      "source": [
        "=> NumPy, while often used for its basic array operations, offers a wealth of advanced features that unlock its true power for numerical computing.\n",
        "\n",
        " Broadcasting:\n",
        "\n",
        "Efficient Operations on Arrays of Different Shapes: Broadcasting allows NumPy to perform arithmetic operations on arrays that have different shapes, as long as certain compatibility rules are met. This avoids the need for explicit looping and significantly speeds up computations. NumPy \"stretches\" the smaller array to match the larger one for element-wise operations.\n",
        "\n",
        "2. Masked Arrays:\n",
        "\n",
        "Handling Missing or Invalid Data: Masked arrays allow you to represent arrays with missing or invalid data. You can \"mask\" certain elements, and NumPy operations will ignore these masked values, preventing them from affecting your calculations. This is very useful for real-world datasets that often have gaps or errors.\n",
        "\n",
        "\n",
        "3. Structured Arrays:\n",
        "\n",
        "Arrays with Heterogeneous Data Types: Unlike regular NumPy arrays that store elements of the same type, structured arrays can hold elements with different data types. Think of them as similar to database tables or records, where each \"row\" can have different types of data (e.g., an integer, a string, a float).\n",
        "4. Memory Mapping:\n",
        "\n",
        "Working with Large Files Without Loading into Memory: Memory mapping lets you treat a file on disk as if it were a NumPy array in memory.\n",
        "\n",
        " This is extremely useful for working with very large datasets that don't fit into RAM. You can access and manipulate portions of the file as needed without loading the whole thing."
      ],
      "metadata": {
        "id": "kJQogjIo2Ueq"
      }
    },
    {
      "cell_type": "markdown",
      "source": [
        "###19. How does Pandas simplify time series analysis?"
      ],
      "metadata": {
        "id": "5y1sJPEJpJ4x"
      }
    },
    {
      "cell_type": "markdown",
      "source": [
        "=> Pandas is a game-changer for time series analysis in Python.\n",
        "\n",
        "1. Specialized Data Structures:\n",
        "\n",
        "DatetimeIndex: Pandas has a special index type specifically for time series data. This allows you to easily work with dates and times as the primary way to access and manipulate your data.\n",
        "\n",
        "2. Time-Based Indexing:\n",
        "\n",
        "Intuitive Data Access: With a DatetimeIndex, you can select data using date/time strings, making it very easy to extract data for specific periods (e.g., \"2023-01-15\" or \"January 2023\").\n",
        "Slicing: You can easily slice your time series data using date ranges, just like you would with regular indexes.\n",
        "\n",
        "3. Date/Time Functionality:\n",
        "\n",
        "Parsing: Pandas can automatically parse dates and times from various formats (e.g., strings in your data files) into the correct Timestamp objects.\n",
        "Generating Date Ranges: You can easily create sequences of dates with specific frequencies (e.g., daily, weekly, monthly) using functions like pd.date_range()."
      ],
      "metadata": {
        "id": "pbb7tE2Q2VB7"
      }
    },
    {
      "cell_type": "markdown",
      "source": [
        "###20. What is the role of a pivot table in Pandas?"
      ],
      "metadata": {
        "id": "3PjgH9vzpJ9i"
      }
    },
    {
      "cell_type": "markdown",
      "source": [
        "=> A pivot table in Pandas is a powerful tool for summarizing and analyzing data. It allows you to reshape and aggregate data in a flexible way, making it easier to understand patterns and trends.  Think of it like a spreadsheet pivot table, but within the Python Pandas library."
      ],
      "metadata": {
        "id": "UZvGLpUbpKFK"
      }
    },
    {
      "cell_type": "markdown",
      "source": [
        "###21. Why is NumPy’s array slicing faster than Python’s list slicing?"
      ],
      "metadata": {
        "id": "fgBYYyDipKJw"
      }
    },
    {
      "cell_type": "markdown",
      "source": [
        "=> NumPy's array slicing is generally faster than Python's list slicing due to a few key reasons:\n",
        "\n",
        "Contiguous Memory: NumPy arrays store elements in contiguous memory blocks. This means that elements are located next to each other in memory. When you slice a NumPy array, you're essentially creating a \"view\" of the original array that points to a specific section of that contiguous memory. This is very efficient because the underlying data doesn't need to be copied.\n",
        "\n",
        "Optimized Operations: NumPy is implemented in C, which is a lower-level language that allows for more direct manipulation of memory and optimized operations. NumPy's slicing operations are highly optimized for speed, taking advantage of contiguous memory and efficient algorithms.\n",
        "\n",
        "NumPy's array slicing is generally faster than Python's list slicing due to a few key reasons:\n",
        "\n",
        "Contiguous Memory: NumPy arrays store elements in contiguous memory blocks. This means that elements are located next to each other in memory. When you slice a NumPy array, you're essentially creating a \"view\" of the original array that points to a specific section of that contiguous memory. This is very efficient because the underlying data doesn't need to be copied.\n",
        "\n",
        "Optimized Operations: NumPy is implemented in C, which is a lower-level language that allows for more direct manipulation of memory and optimized operations. NumPy's slicing operations are highly optimized for speed, taking advantage of contiguous memory and efficient algorithms."
      ],
      "metadata": {
        "id": "Wd6Zp7oFqEPq"
      }
    },
    {
      "cell_type": "markdown",
      "source": [
        "###22. What are some common use cases for Seaborn?"
      ],
      "metadata": {
        "id": "NMT6dJekqGXO"
      }
    },
    {
      "cell_type": "markdown",
      "source": [
        "=> eaborn is a powerful Python data visualization library built on top of Matplotlib. It provides a high-level interface for creating informative and visually appealing statistical graphics.\n"
      ],
      "metadata": {
        "id": "6hAr_KP_qGnX"
      }
    },
    {
      "cell_type": "markdown",
      "source": [
        "#Practical"
      ],
      "metadata": {
        "id": "oXRUncAiM44I"
      }
    },
    {
      "cell_type": "code",
      "source": [
        "#1.\n",
        "import numpy as np\n",
        "arr = np.array([[1,2,3,4,5],\n",
        "             [6,7,8,9,10],\n",
        "             [11,12,13,14,15],\n",
        "             [16,17,18,19,20]])\n",
        "row_sums = np.sum(arr, axis=1)\n",
        "print(\"2D Array:\")\n",
        "print(arr)\n",
        "print(\"\\nRow Sums:\",row_sums)"
      ],
      "metadata": {
        "colab": {
          "base_uri": "https://localhost:8080/"
        },
        "id": "Vtfo6DUt4Zqi",
        "outputId": "f339136b-1abb-4728-b6ec-df2db1e4077a"
      },
      "execution_count": null,
      "outputs": [
        {
          "output_type": "stream",
          "name": "stdout",
          "text": [
            "2D Array:\n",
            "[[ 1  2  3  4  5]\n",
            " [ 6  7  8  9 10]\n",
            " [11 12 13 14 15]\n",
            " [16 17 18 19 20]]\n",
            "\n",
            "Row Sums: [15 40 65 90]\n"
          ]
        }
      ]
    },
    {
      "cell_type": "code",
      "source": [
        "#2.\n",
        "import pandas as pd\n",
        "data = {\n",
        "    'Name': ['Alice', 'Bob', 'Charlie', 'David', 'Eve'],\n",
        "    'Age': [25, 30, 35,32,28],\n",
        "    'salary': [500000, 30000,400000,10000,200000]}\n",
        "df = pd.DataFrame(data)\n",
        "mean_salary = df['salary'].mean()\n",
        "print(\"\\nMean Salary:\", mean_salary)\n"
      ],
      "metadata": {
        "colab": {
          "base_uri": "https://localhost:8080/"
        },
        "id": "ojt6V0vc4ZhK",
        "outputId": "6f616254-3417-4cd6-8ac2-5a66470b398a"
      },
      "execution_count": null,
      "outputs": [
        {
          "output_type": "stream",
          "name": "stdout",
          "text": [
            "\n",
            "Mean Salary: 228000.0\n"
          ]
        }
      ]
    },
    {
      "cell_type": "code",
      "source": [
        "#3.\n",
        "import matplotlib.pyplot as plt\n",
        "x = [10,20,30,40,50]\n",
        "y = [5,15,25,35,45]\n",
        "plt.scatter(x,y, color = \"blue\", marker = 'o', label = \"Data Piontd\")\n",
        "plt.xlabel('X-axis')\n",
        "plt.ylabel('Y-axis')\n",
        "plt.title('Scatter Plot')\n",
        "plt.legend()\n",
        "plt.show()"
      ],
      "metadata": {
        "colab": {
          "base_uri": "https://localhost:8080/",
          "height": 472
        },
        "id": "IfFvbN5e4ZbR",
        "outputId": "ef361dfb-d10d-46c2-99fb-486c67f7f599"
      },
      "execution_count": null,
      "outputs": [
        {
          "output_type": "display_data",
          "data": {
            "text/plain": [
              "<Figure size 640x480 with 1 Axes>"
            ],
            "image/png": "[encoded data removed]"
          },
          "metadata": {}
        }
      ]
    },
    {
      "cell_type": "code",
      "source": [
        "#4.\n",
        "import pandas as pd\n",
        "import seaborn as sns\n",
        "import matplotlib.pyplot as plt\n",
        "data ={'A': [10,20,30,40,50],\n",
        "       'B': [5,15,25,35,45],\n",
        "       'C' : [2,8,18,28,38,]}\n",
        "df = pd.DataFrame(data)\n",
        "corr_matrix = df.corr()\n",
        "sns.heatmap(corr_matrix, annot=True, cmap='coolwarm', fmt=\".2f\",linewidths=0.5)\n",
        "plt.title('Correlation Matrix Heatmap')\n",
        "plt.show()"
      ],
      "metadata": {
        "colab": {
          "base_uri": "https://localhost:8080/",
          "height": 452
        },
        "id": "AMdg4gB_4ZWC",
        "outputId": "cb095bce-9fce-4963-bd7a-b837234909fa"
      },
      "execution_count": null,
      "outputs": [
        {
          "output_type": "display_data",
          "data": {
            "text/plain": [
              "<Figure size 640x480 with 2 Axes>"
            ],
            "image/png": "[encoded data removed]"
          },
          "metadata": {}
        }
      ]
    },
    {
      "cell_type": "code",
      "source": [
        "#5.\n",
        "import plotly.graph_objects as go\n",
        "categorices = ['A','B','C','D']\n",
        "values = [10,20,15,25]\n",
        "fig = go.Figure(data=[go.Bar(x=categorices, y=values,  marker_color='blue')])\n",
        "fig.update_layout(title=\"Simple Bar Plot\", xaxis_title=\"Categories\", yaxis_title=\"Values\")\n",
        "fig.show()"
      ],
      "metadata": {
        "colab": {
          "base_uri": "https://localhost:8080/",
          "height": 542
        },
        "id": "NBqo_FdB4ZRP",
        "outputId": "8c1bcc33-a3b3-4131-cd5e-da72fb51b27d"
      },
      "execution_count": null,
      "outputs": [
        {
          "output_type": "display_data",
          "data": {
            "text/html": [
              "<html>\n",
              "<head><meta charset=\"utf-8\" /></head>\n",
              "<body>\n",
              "    <div>            <script src=\"https://cdnjs.cloudflare.com/ajax/libs/mathjax/2.7.5/MathJax.js?config=TeX-AMS-MML_SVG\"></script><script type=\"text/javascript\">if (window.MathJax && window.MathJax.Hub && window.MathJax.Hub.Config) {window.MathJax.Hub.Config({SVG: {font: \"STIX-Web\"}});}</script>                <script type=\"text/javascript\">window.PlotlyConfig = {MathJaxConfig: 'local'};</script>\n",
              "        <script charset=\"utf-8\" src=\"https://cdn.plot.ly/plotly-2.35.2.min.js\"></script>                <div id=\"fa0aee5b-fa2c-43a7-ab2e-91b2868e6694\" class=\"plotly-graph-div\" style=\"height:525px; width:100%;\"></div>            <script type=\"text/javascript\">                                    window.PLOTLYENV=window.PLOTLYENV || {};                                    if (document.getElementById(\"fa0aee5b-fa2c-43a7-ab2e-91b2868e6694\")) {                    Plotly.newPlot(                        \"fa0aee5b-fa2c-43a7-ab2e-91b2868e6694\",                        [{\"marker\":{\"color\":\"blue\"},\"x\":[\"A\",\"B\",\"C\",\"D\"],\"y\":[10,20,15,25],\"type\":\"bar\"}],                        {\"template\":{\"data\":{\"histogram2dcontour\":[{\"type\":\"histogram2dcontour\",\"colorbar\":{\"outlinewidth\":0,\"ticks\":\"\"},\"colorscale\":[[0.0,\"#0d0887\"],[0.1111111111111111,\"#46039f\"],[0.2222222222222222,\"#7201a8\"],[0.3333333333333333,\"#9c179e\"],[0.4444444444444444,\"#bd3786\"],[0.5555555555555556,\"#d8576b\"],[0.6666666666666666,\"#ed7953\"],[0.7777777777777778,\"#fb9f3a\"],[0.8888888888888888,\"#fdca26\"],[1.0,\"#f0f921\"]]}],\"choropleth\":[{\"type\":\"choropleth\",\"colorbar\":{\"outlinewidth\":0,\"ticks\":\"\"}}],\"histogram2d\":[{\"type\":\"histogram2d\",\"colorbar\":{\"outlinewidth\":0,\"ticks\":\"\"},\"colorscale\":[[0.0,\"#0d0887\"],[0.1111111111111111,\"#46039f\"],[0.2222222222222222,\"#7201a8\"],[0.3333333333333333,\"#9c179e\"],[0.4444444444444444,\"#bd3786\"],[0.5555555555555556,\"#d8576b\"],[0.6666666666666666,\"#ed7953\"],[0.7777777777777778,\"#fb9f3a\"],[0.8888888888888888,\"#fdca26\"],[1.0,\"#f0f921\"]]}],\"heatmap\":[{\"type\":\"heatmap\",\"colorbar\":{\"outlinewidth\":0,\"ticks\":\"\"},\"colorscale\":[[0.0,\"#0d0887\"],[0.1111111111111111,\"#46039f\"],[0.2222222222222222,\"#7201a8\"],[0.3333333333333333,\"#9c179e\"],[0.4444444444444444,\"#bd3786\"],[0.5555555555555556,\"#d8576b\"],[0.6666666666666666,\"#ed7953\"],[0.7777777777777778,\"#fb9f3a\"],[0.8888888888888888,\"#fdca26\"],[1.0,\"#f0f921\"]]}],\"heatmapgl\":[{\"type\":\"heatmapgl\",\"colorbar\":{\"outlinewidth\":0,\"ticks\":\"\"},\"colorscale\":[[0.0,\"#0d0887\"],[0.1111111111111111,\"#46039f\"],[0.2222222222222222,\"#7201a8\"],[0.3333333333333333,\"#9c179e\"],[0.4444444444444444,\"#bd3786\"],[0.5555555555555556,\"#d8576b\"],[0.6666666666666666,\"#ed7953\"],[0.7777777777777778,\"#fb9f3a\"],[0.8888888888888888,\"#fdca26\"],[1.0,\"#f0f921\"]]}],\"contourcarpet\":[{\"type\":\"contourcarpet\",\"colorbar\":{\"outlinewidth\":0,\"ticks\":\"\"}}],\"contour\":[{\"type\":\"contour\",\"colorbar\":{\"outlinewidth\":0,\"ticks\":\"\"},\"colorscale\":[[0.0,\"#0d0887\"],[0.1111111111111111,\"#46039f\"],[0.2222222222222222,\"#7201a8\"],[0.3333333333333333,\"#9c179e\"],[0.4444444444444444,\"#bd3786\"],[0.5555555555555556,\"#d8576b\"],[0.6666666666666666,\"#ed7953\"],[0.7777777777777778,\"#fb9f3a\"],[0.8888888888888888,\"#fdca26\"],[1.0,\"#f0f921\"]]}],\"surface\":[{\"type\":\"surface\",\"colorbar\":{\"outlinewidth\":0,\"ticks\":\"\"},\"colorscale\":[[0.0,\"#0d0887\"],[0.1111111111111111,\"#46039f\"],[0.2222222222222222,\"#7201a8\"],[0.3333333333333333,\"#9c179e\"],[0.4444444444444444,\"#bd3786\"],[0.5555555555555556,\"#d8576b\"],[0.6666666666666666,\"#ed7953\"],[0.7777777777777778,\"#fb9f3a\"],[0.8888888888888888,\"#fdca26\"],[1.0,\"#f0f921\"]]}],\"mesh3d\":[{\"type\":\"mesh3d\",\"colorbar\":{\"outlinewidth\":0,\"ticks\":\"\"}}],\"scatter\":[{\"fillpattern\":{\"fillmode\":\"overlay\",\"size\":10,\"solidity\":0.2},\"type\":\"scatter\"}],\"parcoords\":[{\"type\":\"parcoords\",\"line\":{\"colorbar\":{\"outlinewidth\":0,\"ticks\":\"\"}}}],\"scatterpolargl\":[{\"type\":\"scatterpolargl\",\"marker\":{\"colorbar\":{\"outlinewidth\":0,\"ticks\":\"\"}}}],\"bar\":[{\"error_x\":{\"color\":\"#2a3f5f\"},\"error_y\":{\"color\":\"#2a3f5f\"},\"marker\":{\"line\":{\"color\":\"#E5ECF6\",\"width\":0.5},\"pattern\":{\"fillmode\":\"overlay\",\"size\":10,\"solidity\":0.2}},\"type\":\"bar\"}],\"scattergeo\":[{\"type\":\"scattergeo\",\"marker\":{\"colorbar\":{\"outlinewidth\":0,\"ticks\":\"\"}}}],\"scatterpolar\":[{\"type\":\"scatterpolar\",\"marker\":{\"colorbar\":{\"outlinewidth\":0,\"ticks\":\"\"}}}],\"histogram\":[{\"marker\":{\"pattern\":{\"fillmode\":\"overlay\",\"size\":10,\"solidity\":0.2}},\"type\":\"histogram\"}],\"scattergl\":[{\"type\":\"scattergl\",\"marker\":{\"colorbar\":{\"outlinewidth\":0,\"ticks\":\"\"}}}],\"scatter3d\":[{\"type\":\"scatter3d\",\"line\":{\"colorbar\":{\"outlinewidth\":0,\"ticks\":\"\"}},\"marker\":{\"colorbar\":{\"outlinewidth\":0,\"ticks\":\"\"}}}],\"scattermapbox\":[{\"type\":\"scattermapbox\",\"marker\":{\"colorbar\":{\"outlinewidth\":0,\"ticks\":\"\"}}}],\"scatterternary\":[{\"type\":\"scatterternary\",\"marker\":{\"colorbar\":{\"outlinewidth\":0,\"ticks\":\"\"}}}],\"scattercarpet\":[{\"type\":\"scattercarpet\",\"marker\":{\"colorbar\":{\"outlinewidth\":0,\"ticks\":\"\"}}}],\"carpet\":[{\"aaxis\":{\"endlinecolor\":\"#2a3f5f\",\"gridcolor\":\"white\",\"linecolor\":\"white\",\"minorgridcolor\":\"white\",\"startlinecolor\":\"#2a3f5f\"},\"baxis\":{\"endlinecolor\":\"#2a3f5f\",\"gridcolor\":\"white\",\"linecolor\":\"white\",\"minorgridcolor\":\"white\",\"startlinecolor\":\"#2a3f5f\"},\"type\":\"carpet\"}],\"table\":[{\"cells\":{\"fill\":{\"color\":\"#EBF0F8\"},\"line\":{\"color\":\"white\"}},\"header\":{\"fill\":{\"color\":\"#C8D4E3\"},\"line\":{\"color\":\"white\"}},\"type\":\"table\"}],\"barpolar\":[{\"marker\":{\"line\":{\"color\":\"#E5ECF6\",\"width\":0.5},\"pattern\":{\"fillmode\":\"overlay\",\"size\":10,\"solidity\":0.2}},\"type\":\"barpolar\"}],\"pie\":[{\"automargin\":true,\"type\":\"pie\"}]},\"layout\":{\"autotypenumbers\":\"strict\",\"colorway\":[\"#636efa\",\"#EF553B\",\"#00cc96\",\"#ab63fa\",\"#FFA15A\",\"#19d3f3\",\"#FF6692\",\"#B6E880\",\"#FF97FF\",\"#FECB52\"],\"font\":{\"color\":\"#2a3f5f\"},\"hovermode\":\"closest\",\"hoverlabel\":{\"align\":\"left\"},\"paper_bgcolor\":\"white\",\"plot_bgcolor\":\"#E5ECF6\",\"polar\":{\"bgcolor\":\"#E5ECF6\",\"angularaxis\":{\"gridcolor\":\"white\",\"linecolor\":\"white\",\"ticks\":\"\"},\"radialaxis\":{\"gridcolor\":\"white\",\"linecolor\":\"white\",\"ticks\":\"\"}},\"ternary\":{\"bgcolor\":\"#E5ECF6\",\"aaxis\":{\"gridcolor\":\"white\",\"linecolor\":\"white\",\"ticks\":\"\"},\"baxis\":{\"gridcolor\":\"white\",\"linecolor\":\"white\",\"ticks\":\"\"},\"caxis\":{\"gridcolor\":\"white\",\"linecolor\":\"white\",\"ticks\":\"\"}},\"coloraxis\":{\"colorbar\":{\"outlinewidth\":0,\"ticks\":\"\"}},\"colorscale\":{\"sequential\":[[0.0,\"#0d0887\"],[0.1111111111111111,\"#46039f\"],[0.2222222222222222,\"#7201a8\"],[0.3333333333333333,\"#9c179e\"],[0.4444444444444444,\"#bd3786\"],[0.5555555555555556,\"#d8576b\"],[0.6666666666666666,\"#ed7953\"],[0.7777777777777778,\"#fb9f3a\"],[0.8888888888888888,\"#fdca26\"],[1.0,\"#f0f921\"]],\"sequentialminus\":[[0.0,\"#0d0887\"],[0.1111111111111111,\"#46039f\"],[0.2222222222222222,\"#7201a8\"],[0.3333333333333333,\"#9c179e\"],[0.4444444444444444,\"#bd3786\"],[0.5555555555555556,\"#d8576b\"],[0.6666666666666666,\"#ed7953\"],[0.7777777777777778,\"#fb9f3a\"],[0.8888888888888888,\"#fdca26\"],[1.0,\"#f0f921\"]],\"diverging\":[[0,\"#8e0152\"],[0.1,\"#c51b7d\"],[0.2,\"#de77ae\"],[0.3,\"#f1b6da\"],[0.4,\"#fde0ef\"],[0.5,\"#f7f7f7\"],[0.6,\"#e6f5d0\"],[0.7,\"#b8e186\"],[0.8,\"#7fbc41\"],[0.9,\"#4d9221\"],[1,\"#276419\"]]},\"xaxis\":{\"gridcolor\":\"white\",\"linecolor\":\"white\",\"ticks\":\"\",\"title\":{\"standoff\":15},\"zerolinecolor\":\"white\",\"automargin\":true,\"zerolinewidth\":2},\"yaxis\":{\"gridcolor\":\"white\",\"linecolor\":\"white\",\"ticks\":\"\",\"title\":{\"standoff\":15},\"zerolinecolor\":\"white\",\"automargin\":true,\"zerolinewidth\":2},\"scene\":{\"xaxis\":{\"backgroundcolor\":\"#E5ECF6\",\"gridcolor\":\"white\",\"linecolor\":\"white\",\"showbackground\":true,\"ticks\":\"\",\"zerolinecolor\":\"white\",\"gridwidth\":2},\"yaxis\":{\"backgroundcolor\":\"#E5ECF6\",\"gridcolor\":\"white\",\"linecolor\":\"white\",\"showbackground\":true,\"ticks\":\"\",\"zerolinecolor\":\"white\",\"gridwidth\":2},\"zaxis\":{\"backgroundcolor\":\"#E5ECF6\",\"gridcolor\":\"white\",\"linecolor\":\"white\",\"showbackground\":true,\"ticks\":\"\",\"zerolinecolor\":\"white\",\"gridwidth\":2}},\"shapedefaults\":{\"line\":{\"color\":\"#2a3f5f\"}},\"annotationdefaults\":{\"arrowcolor\":\"#2a3f5f\",\"arrowhead\":0,\"arrowwidth\":1},\"geo\":{\"bgcolor\":\"white\",\"landcolor\":\"#E5ECF6\",\"subunitcolor\":\"white\",\"showland\":true,\"showlakes\":true,\"lakecolor\":\"white\"},\"title\":{\"x\":0.05},\"mapbox\":{\"style\":\"light\"}}},\"title\":{\"text\":\"Simple Bar Plot\"},\"xaxis\":{\"title\":{\"text\":\"Categories\"}},\"yaxis\":{\"title\":{\"text\":\"Values\"}}},                        {\"responsive\": true}                    ).then(function(){\n",
              "                            \n",
              "var gd = document.getElementById('fa0aee5b-fa2c-43a7-ab2e-91b2868e6694');\n",
              "var x = new MutationObserver(function (mutations, observer) {{\n",
              "        var display = window.getComputedStyle(gd).display;\n",
              "        if (!display || display === 'none') {{\n",
              "            console.log([gd, 'removed!']);\n",
              "            Plotly.purge(gd);\n",
              "            observer.disconnect();\n",
              "        }}\n",
              "}});\n",
              "\n",
              "// Listen for the removal of the full notebook cells\n",
              "var notebookContainer = gd.closest('#notebook-container');\n",
              "if (notebookContainer) {{\n",
              "    x.observe(notebookContainer, {childList: true});\n",
              "}}\n",
              "\n",
              "// Listen for the clearing of the current output cell\n",
              "var outputEl = gd.closest('.output');\n",
              "if (outputEl) {{\n",
              "    x.observe(outputEl, {childList: true});\n",
              "}}\n",
              "\n",
              "                        })                };                            </script>        </div>\n",
              "</body>\n",
              "</html>"
            ]
          },
          "metadata": {}
        }
      ]
    },
    {
      "cell_type": "code",
      "source": [
        "#6.\n",
        "import pandas as pd\n",
        "data = {'Name': ['pri','gii','rii','totu'],'Age': [25,30,35,40]}\n",
        "\n",
        "df = pd.DataFrame(data)\n",
        "print(df)"
      ],
      "metadata": {
        "colab": {
          "base_uri": "https://localhost:8080/"
        },
        "id": "A0cM2OB54ZMQ",
        "outputId": "647619a5-82b3-423d-9e0b-821467714c47"
      },
      "execution_count": null,
      "outputs": [
        {
          "output_type": "stream",
          "name": "stdout",
          "text": [
            "   Name  Age\n",
            "0   pri   25\n",
            "1   gii   30\n",
            "2   rii   35\n",
            "3  totu   40\n"
          ]
        }
      ]
    },
    {
      "cell_type": "code",
      "source": [
        "df['Age_Group'] = df['Age'].apply(lambda x: 'Young' if x < 30 else 'Adult')"
      ],
      "metadata": {
        "id": "GgcNmbvc4ZG4"
      },
      "execution_count": null,
      "outputs": []
    },
    {
      "cell_type": "code",
      "source": [
        "print(df)"
      ],
      "metadata": {
        "colab": {
          "base_uri": "https://localhost:8080/"
        },
        "id": "oYH8HuwP4ZB5",
        "outputId": "f598d27a-fe5c-4470-a408-fa881f8ea8f3"
      },
      "execution_count": null,
      "outputs": [
        {
          "output_type": "stream",
          "name": "stdout",
          "text": [
            "   Name  Age Age_Group\n",
            "0   pri   25     Young\n",
            "1   gii   30     Adult\n",
            "2   rii   35     Adult\n",
            "3  totu   40     Adult\n"
          ]
        }
      ]
    },
    {
      "cell_type": "code",
      "source": [
        "#7.\n",
        "import numpy as np\n",
        "arr1 = np.array([1,2,3,4,5])\n",
        "arr2 = np.array([10,20,30,40,50])\n",
        "result = arr1 * arr2\n",
        "print(\"Array 1:\", arr1)\n",
        "print(\"Array 2:\", arr2)\n",
        "print(\"Element-wise Multiplication:\",result)"
      ],
      "metadata": {
        "id": "nFqMd9RH4Y9F",
        "colab": {
          "base_uri": "https://localhost:8080/"
        },
        "outputId": "66c8bd4c-dcd7-4094-81bb-1b91a58a7754"
      },
      "execution_count": 1,
      "outputs": [
        {
          "output_type": "stream",
          "name": "stdout",
          "text": [
            "Array 1: [1 2 3 4 5]\n",
            "Array 2: [10 20 30 40 50]\n",
            "Element-wise Multiplication: [ 10  40  90 160 250]\n"
          ]
        }
      ]
    },
    {
      "cell_type": "code",
      "source": [
        "#8.\n",
        "import matplotlib.pyplot as plt\n",
        "x = [1,2,3,4,5]\n",
        "y1 = [10,20,30,40,50]\n",
        "y2 = [5,15,25,35,45]\n",
        "plt.plot(x,y1, marker='o', linestyle='-', color = 'blue', label = 'Line 1')\n",
        "plt.plot(x,y2, marker='s', linestyle='--', color = 'red', label = 'Line 2')\n",
        "plt.xlabel('X-axis')\n",
        "plt.ylabel('Y-axis')\n",
        "plt.title('Multiple Line Plot')\n",
        "plt.legend()\n",
        "plt.show()"
      ],
      "metadata": {
        "id": "i487YK2S4Y3h",
        "colab": {
          "base_uri": "https://localhost:8080/",
          "height": 472
        },
        "outputId": "8f1dbdfd-89ed-4eda-a1ad-6eac43b1d77f"
      },
      "execution_count": 2,
      "outputs": [
        {
          "output_type": "display_data",
          "data": {
            "text/plain": [
              "<Figure size 640x480 with 1 Axes>"
            ],
            "image/png": "[encoded data removed]"
          },
          "metadata": {}
        }
      ]
    },
    {
      "cell_type": "code",
      "source": [
        "#9.\n",
        "import pandas as pd\n",
        "data = {'Name': ['Alice', 'Bob', 'Charlie', 'David', 'Eve'],\n",
        "        'score': [95, 85, 55, 65, 88]}\n",
        "df = pd.DataFrame(data)\n",
        "threshold = 80\n",
        "filtered_df = df[df['score'] > threshold]\n",
        "print(filtered_df)"
      ],
      "metadata": {
        "id": "PAST2drt4Yyd",
        "colab": {
          "base_uri": "https://localhost:8080/"
        },
        "outputId": "a6e2f837-cdcd-4250-9d35-08a8c3826bff"
      },
      "execution_count": 5,
      "outputs": [
        {
          "output_type": "stream",
          "name": "stdout",
          "text": [
            "    Name  score\n",
            "0  Alice     95\n",
            "1    Bob     85\n",
            "4    Eve     88\n"
          ]
        }
      ]
    },
    {
      "cell_type": "code",
      "source": [
        "#10.\n",
        "import seaborn as sns\n",
        "import matplotlib.pyplot as plt\n",
        "import numpy as np\n",
        "data = np.random.normal(loc=50, scale=15, size=200)\n",
        "sns.histplot(data, bins=20, kde=True, color='blue')\n",
        "plt.xlabel('Value')\n",
        "plt.ylabel('Frequency')\n",
        "plt.title('Histogram of Random Data')\n",
        "plt.show()"
      ],
      "metadata": {
        "id": "PMgJ8M684Ys7",
        "colab": {
          "base_uri": "https://localhost:8080/",
          "height": 472
        },
        "outputId": "3abb14a5-6cc0-4596-fb08-b956f3d08312"
      },
      "execution_count": 6,
      "outputs": [
        {
          "output_type": "display_data",
          "data": {
            "text/plain": [
              "<Figure size 640x480 with 1 Axes>"
            ],
            "image/png": "[encoded data removed]"
          },
          "metadata": {}
        }
      ]
    },
    {
      "cell_type": "code",
      "source": [
        "#11.\n",
        "import numpy as np\n",
        "A = np.array([[1,2,3],[4,5,6],[7,8,9]])\n",
        "B = np.array([[9,8,7],[6,5,4],[3,2,1]])\n",
        "result = A @ B\n",
        "print(\"Matrix A:\\n\",A)\n",
        "print(\"Matrix B:\\n\",B)\n",
        "print(\"Result of A x B:\\n\",result)"
      ],
      "metadata": {
        "id": "LIR1MRtq4Ym7",
        "colab": {
          "base_uri": "https://localhost:8080/"
        },
        "outputId": "aac34ac5-d447-456b-915d-99a697787bbf"
      },
      "execution_count": 7,
      "outputs": [
        {
          "output_type": "stream",
          "name": "stdout",
          "text": [
            "Matrix A:\n",
            " [[1 2 3]\n",
            " [4 5 6]\n",
            " [7 8 9]]\n",
            "Matrix B:\n",
            " [[9 8 7]\n",
            " [6 5 4]\n",
            " [3 2 1]]\n",
            "Result of A x B:\n",
            " [[ 30  24  18]\n",
            " [ 84  69  54]\n",
            " [138 114  90]]\n"
          ]
        }
      ]
    },
    {
      "cell_type": "code",
      "source": [
        "#12.\n",
        "import pandas as pd\n",
        "\n",
        "try:\n",
        "    df = pd.read_csv(\"your_file.csv\")\n",
        "except FileNotFoundError:\n",
        "    print(\"Error: File not found. Please make sure the file exists in the correct directory.\")\n",
        "    exit()\n",
        "\n",
        "print(df.head())\n",
        "\n",
        "try:\n",
        "    with open(\"your_file.csv\", \"r\") as file:\n",
        "      df = pd.read_csv(file)\n",
        "      print(df.head())\n",
        "except FileNotFoundError:\n",
        "    print(\"Error: File not found. Please make sure the file exists in the correct directory.\")\n",
        "    exit()"
      ],
      "metadata": {
        "colab": {
          "base_uri": "https://localhost:8080/"
        },
        "id": "gj1i8BK6k8OD",
        "outputId": "3b1a0f02-5ea7-4da8-e90d-1b12365b51e8"
      },
      "execution_count": 26,
      "outputs": [
        {
          "output_type": "stream",
          "name": "stdout",
          "text": [
            "Error: File not found. Please make sure the file exists in the correct directory.\n",
            "      Name  Age\n",
            "0    Alice   25\n",
            "1      Bob   30\n",
            "2  Charlie   35\n",
            "3    David   40\n",
            "4      Eve   45\n",
            "Error: File not found. Please make sure the file exists in the correct directory.\n"
          ]
        }
      ]
    },
    {
      "cell_type": "code",
      "source": [
        "#13.\n",
        "import plotly.graph_objects as go\n",
        "import numpy as np\n",
        "np.random.seed(42)\n",
        "x = np.random.rand(50)*10\n",
        "y = np.random.rand(50)*10\n",
        "z = np.random.rand(50)*10\n",
        "fig = go.Figure(data=[go.Scatter3d(x=x, y=y, z=z, mode='markers', marker=dict(size=5, color=z, colorscale='Viridis', opacity=0.8))])\n",
        "fig.update_layout(title=\"3D Scatter Plot\", scene=dict(xaxis_title=\"X\", yaxis_title=\"Y\", zaxis_title=\"Z\"))\n",
        "fig.show()\n"
      ],
      "metadata": {
        "colab": {
          "base_uri": "https://localhost:8080/",
          "height": 542
        },
        "id": "96jPnEWPhqfW",
        "outputId": "90b673cf-8089-4c32-db8e-e403bdf4e71d"
      },
      "execution_count": 1,
      "outputs": [
        {
          "output_type": "display_data",
          "data": {
            "text/html": [
              "<html>\n",
              "<head><meta charset=\"utf-8\" /></head>\n",
              "<body>\n",
              "    <div>            <script src=\"https://cdnjs.cloudflare.com/ajax/libs/mathjax/2.7.5/MathJax.js?config=TeX-AMS-MML_SVG\"></script><script type=\"text/javascript\">if (window.MathJax && window.MathJax.Hub && window.MathJax.Hub.Config) {window.MathJax.Hub.Config({SVG: {font: \"STIX-Web\"}});}</script>                <script type=\"text/javascript\">window.PlotlyConfig = {MathJaxConfig: 'local'};</script>\n",
              "        <script charset=\"utf-8\" src=\"https://cdn.plot.ly/plotly-2.35.2.min.js\"></script>                <div id=\"47a8bbeb-3ff5-43be-9055-9e47c0d2df3b\" class=\"plotly-graph-div\" style=\"height:525px; width:100%;\"></div>            <script type=\"text/javascript\">                                    window.PLOTLYENV=window.PLOTLYENV || {};                                    if (document.getElementById(\"47a8bbeb-3ff5-43be-9055-9e47c0d2df3b\")) {                    Plotly.newPlot(                        \"47a8bbeb-3ff5-43be-9055-9e47c0d2df3b\",                        [{\"marker\":{\"color\":[0.3142918568673425,6.364104112637804,3.143559810763267,5.085706911647028,9.07566473926093,2.4929222914887497,4.103829230356297,7.555511385430487,2.2879816549162246,0.7697990982879299,2.8975145291376805,1.6122128725400442,9.29697652342573,8.08120379564417,6.334037565104235,8.714605901877178,8.036720768991145,1.8657005888603584,8.925589984899778,5.393422419156507,8.074401551640625,8.960912999234932,3.1800347497186388,1.1005192452767676,2.279351625419417,4.271077886262563,8.18014765922493,8.607305832563434,0.06952130531190703,5.107473025775658,4.17411003148779,2.2210781047073027,1.198653673336828,3.3761517140362796,9.429097039125192,3.2320293202075523,5.187906217433661,7.030189588951778,3.63629602379294,9.717820827209607,9.624472949421111,2.5178229582536416,4.972485058923855,3.0087830981676964,2.848404943774676,0.36886947354532795,6.095643339798968,5.026790232288615,0.5147875124998935,2.7864646423661146],\"colorscale\":[[0.0,\"#440154\"],[0.1111111111111111,\"#482878\"],[0.2222222222222222,\"#3e4989\"],[0.3333333333333333,\"#31688e\"],[0.4444444444444444,\"#26828e\"],[0.5555555555555556,\"#1f9e89\"],[0.6666666666666666,\"#35b779\"],[0.7777777777777778,\"#6ece58\"],[0.8888888888888888,\"#b5de2b\"],[1.0,\"#fde725\"]],\"opacity\":0.8,\"size\":5},\"mode\":\"markers\",\"x\":[3.745401188473625,9.50714306409916,7.319939418114051,5.986584841970366,1.5601864044243652,1.5599452033620265,0.5808361216819946,8.661761457749352,6.011150117432088,7.080725777960454,0.20584494295802447,9.699098521619943,8.324426408004218,2.1233911067827616,1.8182496720710062,1.8340450985343382,3.0424224295953772,5.247564316322379,4.319450186421157,2.9122914019804194,6.118528947223795,1.3949386065204183,2.9214464853521815,3.663618432936917,4.56069984217036,7.851759613930136,1.9967378215835974,5.142344384136116,5.924145688620425,0.46450412719997725,6.075448519014383,1.7052412368729153,0.6505159298527952,9.488855372533333,9.656320330745594,8.08397348116461,3.0461376917337066,0.9767211400638387,6.842330265121569,4.4015249373960135,1.2203823484477883,4.951769101112702,0.34388521115218396,9.093204020787821,2.587799816000169,6.62522284353982,3.1171107608941098,5.200680211778108,5.4671027934327965,1.8485445552552704],\"y\":[9.695846277645586,7.7513282336111455,9.394989415641891,8.948273504276488,5.978999788110851,9.218742350231167,0.884925020519195,1.959828624191452,0.45227288910538066,3.2533033076326436,3.8867728968948203,2.713490317738959,8.287375091519294,3.567533266935893,2.8093450968738076,5.426960831582485,1.4092422497476265,8.021969807540398,0.7455064367977082,9.868869366005173,7.722447692966574,1.987156815341724,0.05522117123602399,8.154614284548341,7.068573438476172,7.2900716804098735,7.712703466859457,0.7404465173409036,3.5846572854427263,1.1586905952512971,8.631034258755935,6.232981268275579,3.308980248526492,0.6355835028602363,3.109823217156622,3.2518332202674705,7.29606178338064,6.3755747135521315,8.872127425763265,4.722149251619493,1.195942459383017,7.13244787222995,7.607850486168974,5.612771975694963,7.70967179954561,4.937955963643907,5.227328293819941,4.275410183585496,0.2541912674409519,1.0789142699330445],\"z\":[0.3142918568673425,6.364104112637804,3.143559810763267,5.085706911647028,9.07566473926093,2.4929222914887497,4.103829230356297,7.555511385430487,2.2879816549162246,0.7697990982879299,2.8975145291376805,1.6122128725400442,9.29697652342573,8.08120379564417,6.334037565104235,8.714605901877178,8.036720768991145,1.8657005888603584,8.925589984899778,5.393422419156507,8.074401551640625,8.960912999234932,3.1800347497186388,1.1005192452767676,2.279351625419417,4.271077886262563,8.18014765922493,8.607305832563434,0.06952130531190703,5.107473025775658,4.17411003148779,2.2210781047073027,1.198653673336828,3.3761517140362796,9.429097039125192,3.2320293202075523,5.187906217433661,7.030189588951778,3.63629602379294,9.717820827209607,9.624472949421111,2.5178229582536416,4.972485058923855,3.0087830981676964,2.848404943774676,0.36886947354532795,6.095643339798968,5.026790232288615,0.5147875124998935,2.7864646423661146],\"type\":\"scatter3d\"}],                        {\"template\":{\"data\":{\"histogram2dcontour\":[{\"type\":\"histogram2dcontour\",\"colorbar\":{\"outlinewidth\":0,\"ticks\":\"\"},\"colorscale\":[[0.0,\"#0d0887\"],[0.1111111111111111,\"#46039f\"],[0.2222222222222222,\"#7201a8\"],[0.3333333333333333,\"#9c179e\"],[0.4444444444444444,\"#bd3786\"],[0.5555555555555556,\"#d8576b\"],[0.6666666666666666,\"#ed7953\"],[0.7777777777777778,\"#fb9f3a\"],[0.8888888888888888,\"#fdca26\"],[1.0,\"#f0f921\"]]}],\"choropleth\":[{\"type\":\"choropleth\",\"colorbar\":{\"outlinewidth\":0,\"ticks\":\"\"}}],\"histogram2d\":[{\"type\":\"histogram2d\",\"colorbar\":{\"outlinewidth\":0,\"ticks\":\"\"},\"colorscale\":[[0.0,\"#0d0887\"],[0.1111111111111111,\"#46039f\"],[0.2222222222222222,\"#7201a8\"],[0.3333333333333333,\"#9c179e\"],[0.4444444444444444,\"#bd3786\"],[0.5555555555555556,\"#d8576b\"],[0.6666666666666666,\"#ed7953\"],[0.7777777777777778,\"#fb9f3a\"],[0.8888888888888888,\"#fdca26\"],[1.0,\"#f0f921\"]]}],\"heatmap\":[{\"type\":\"heatmap\",\"colorbar\":{\"outlinewidth\":0,\"ticks\":\"\"},\"colorscale\":[[0.0,\"#0d0887\"],[0.1111111111111111,\"#46039f\"],[0.2222222222222222,\"#7201a8\"],[0.3333333333333333,\"#9c179e\"],[0.4444444444444444,\"#bd3786\"],[0.5555555555555556,\"#d8576b\"],[0.6666666666666666,\"#ed7953\"],[0.7777777777777778,\"#fb9f3a\"],[0.8888888888888888,\"#fdca26\"],[1.0,\"#f0f921\"]]}],\"heatmapgl\":[{\"type\":\"heatmapgl\",\"colorbar\":{\"outlinewidth\":0,\"ticks\":\"\"},\"colorscale\":[[0.0,\"#0d0887\"],[0.1111111111111111,\"#46039f\"],[0.2222222222222222,\"#7201a8\"],[0.3333333333333333,\"#9c179e\"],[0.4444444444444444,\"#bd3786\"],[0.5555555555555556,\"#d8576b\"],[0.6666666666666666,\"#ed7953\"],[0.7777777777777778,\"#fb9f3a\"],[0.8888888888888888,\"#fdca26\"],[1.0,\"#f0f921\"]]}],\"contourcarpet\":[{\"type\":\"contourcarpet\",\"colorbar\":{\"outlinewidth\":0,\"ticks\":\"\"}}],\"contour\":[{\"type\":\"contour\",\"colorbar\":{\"outlinewidth\":0,\"ticks\":\"\"},\"colorscale\":[[0.0,\"#0d0887\"],[0.1111111111111111,\"#46039f\"],[0.2222222222222222,\"#7201a8\"],[0.3333333333333333,\"#9c179e\"],[0.4444444444444444,\"#bd3786\"],[0.5555555555555556,\"#d8576b\"],[0.6666666666666666,\"#ed7953\"],[0.7777777777777778,\"#fb9f3a\"],[0.8888888888888888,\"#fdca26\"],[1.0,\"#f0f921\"]]}],\"surface\":[{\"type\":\"surface\",\"colorbar\":{\"outlinewidth\":0,\"ticks\":\"\"},\"colorscale\":[[0.0,\"#0d0887\"],[0.1111111111111111,\"#46039f\"],[0.2222222222222222,\"#7201a8\"],[0.3333333333333333,\"#9c179e\"],[0.4444444444444444,\"#bd3786\"],[0.5555555555555556,\"#d8576b\"],[0.6666666666666666,\"#ed7953\"],[0.7777777777777778,\"#fb9f3a\"],[0.8888888888888888,\"#fdca26\"],[1.0,\"#f0f921\"]]}],\"mesh3d\":[{\"type\":\"mesh3d\",\"colorbar\":{\"outlinewidth\":0,\"ticks\":\"\"}}],\"scatter\":[{\"fillpattern\":{\"fillmode\":\"overlay\",\"size\":10,\"solidity\":0.2},\"type\":\"scatter\"}],\"parcoords\":[{\"type\":\"parcoords\",\"line\":{\"colorbar\":{\"outlinewidth\":0,\"ticks\":\"\"}}}],\"scatterpolargl\":[{\"type\":\"scatterpolargl\",\"marker\":{\"colorbar\":{\"outlinewidth\":0,\"ticks\":\"\"}}}],\"bar\":[{\"error_x\":{\"color\":\"#2a3f5f\"},\"error_y\":{\"color\":\"#2a3f5f\"},\"marker\":{\"line\":{\"color\":\"#E5ECF6\",\"width\":0.5},\"pattern\":{\"fillmode\":\"overlay\",\"size\":10,\"solidity\":0.2}},\"type\":\"bar\"}],\"scattergeo\":[{\"type\":\"scattergeo\",\"marker\":{\"colorbar\":{\"outlinewidth\":0,\"ticks\":\"\"}}}],\"scatterpolar\":[{\"type\":\"scatterpolar\",\"marker\":{\"colorbar\":{\"outlinewidth\":0,\"ticks\":\"\"}}}],\"histogram\":[{\"marker\":{\"pattern\":{\"fillmode\":\"overlay\",\"size\":10,\"solidity\":0.2}},\"type\":\"histogram\"}],\"scattergl\":[{\"type\":\"scattergl\",\"marker\":{\"colorbar\":{\"outlinewidth\":0,\"ticks\":\"\"}}}],\"scatter3d\":[{\"type\":\"scatter3d\",\"line\":{\"colorbar\":{\"outlinewidth\":0,\"ticks\":\"\"}},\"marker\":{\"colorbar\":{\"outlinewidth\":0,\"ticks\":\"\"}}}],\"scattermapbox\":[{\"type\":\"scattermapbox\",\"marker\":{\"colorbar\":{\"outlinewidth\":0,\"ticks\":\"\"}}}],\"scatterternary\":[{\"type\":\"scatterternary\",\"marker\":{\"colorbar\":{\"outlinewidth\":0,\"ticks\":\"\"}}}],\"scattercarpet\":[{\"type\":\"scattercarpet\",\"marker\":{\"colorbar\":{\"outlinewidth\":0,\"ticks\":\"\"}}}],\"carpet\":[{\"aaxis\":{\"endlinecolor\":\"#2a3f5f\",\"gridcolor\":\"white\",\"linecolor\":\"white\",\"minorgridcolor\":\"white\",\"startlinecolor\":\"#2a3f5f\"},\"baxis\":{\"endlinecolor\":\"#2a3f5f\",\"gridcolor\":\"white\",\"linecolor\":\"white\",\"minorgridcolor\":\"white\",\"startlinecolor\":\"#2a3f5f\"},\"type\":\"carpet\"}],\"table\":[{\"cells\":{\"fill\":{\"color\":\"#EBF0F8\"},\"line\":{\"color\":\"white\"}},\"header\":{\"fill\":{\"color\":\"#C8D4E3\"},\"line\":{\"color\":\"white\"}},\"type\":\"table\"}],\"barpolar\":[{\"marker\":{\"line\":{\"color\":\"#E5ECF6\",\"width\":0.5},\"pattern\":{\"fillmode\":\"overlay\",\"size\":10,\"solidity\":0.2}},\"type\":\"barpolar\"}],\"pie\":[{\"automargin\":true,\"type\":\"pie\"}]},\"layout\":{\"autotypenumbers\":\"strict\",\"colorway\":[\"#636efa\",\"#EF553B\",\"#00cc96\",\"#ab63fa\",\"#FFA15A\",\"#19d3f3\",\"#FF6692\",\"#B6E880\",\"#FF97FF\",\"#FECB52\"],\"font\":{\"color\":\"#2a3f5f\"},\"hovermode\":\"closest\",\"hoverlabel\":{\"align\":\"left\"},\"paper_bgcolor\":\"white\",\"plot_bgcolor\":\"#E5ECF6\",\"polar\":{\"bgcolor\":\"#E5ECF6\",\"angularaxis\":{\"gridcolor\":\"white\",\"linecolor\":\"white\",\"ticks\":\"\"},\"radialaxis\":{\"gridcolor\":\"white\",\"linecolor\":\"white\",\"ticks\":\"\"}},\"ternary\":{\"bgcolor\":\"#E5ECF6\",\"aaxis\":{\"gridcolor\":\"white\",\"linecolor\":\"white\",\"ticks\":\"\"},\"baxis\":{\"gridcolor\":\"white\",\"linecolor\":\"white\",\"ticks\":\"\"},\"caxis\":{\"gridcolor\":\"white\",\"linecolor\":\"white\",\"ticks\":\"\"}},\"coloraxis\":{\"colorbar\":{\"outlinewidth\":0,\"ticks\":\"\"}},\"colorscale\":{\"sequential\":[[0.0,\"#0d0887\"],[0.1111111111111111,\"#46039f\"],[0.2222222222222222,\"#7201a8\"],[0.3333333333333333,\"#9c179e\"],[0.4444444444444444,\"#bd3786\"],[0.5555555555555556,\"#d8576b\"],[0.6666666666666666,\"#ed7953\"],[0.7777777777777778,\"#fb9f3a\"],[0.8888888888888888,\"#fdca26\"],[1.0,\"#f0f921\"]],\"sequentialminus\":[[0.0,\"#0d0887\"],[0.1111111111111111,\"#46039f\"],[0.2222222222222222,\"#7201a8\"],[0.3333333333333333,\"#9c179e\"],[0.4444444444444444,\"#bd3786\"],[0.5555555555555556,\"#d8576b\"],[0.6666666666666666,\"#ed7953\"],[0.7777777777777778,\"#fb9f3a\"],[0.8888888888888888,\"#fdca26\"],[1.0,\"#f0f921\"]],\"diverging\":[[0,\"#8e0152\"],[0.1,\"#c51b7d\"],[0.2,\"#de77ae\"],[0.3,\"#f1b6da\"],[0.4,\"#fde0ef\"],[0.5,\"#f7f7f7\"],[0.6,\"#e6f5d0\"],[0.7,\"#b8e186\"],[0.8,\"#7fbc41\"],[0.9,\"#4d9221\"],[1,\"#276419\"]]},\"xaxis\":{\"gridcolor\":\"white\",\"linecolor\":\"white\",\"ticks\":\"\",\"title\":{\"standoff\":15},\"zerolinecolor\":\"white\",\"automargin\":true,\"zerolinewidth\":2},\"yaxis\":{\"gridcolor\":\"white\",\"linecolor\":\"white\",\"ticks\":\"\",\"title\":{\"standoff\":15},\"zerolinecolor\":\"white\",\"automargin\":true,\"zerolinewidth\":2},\"scene\":{\"xaxis\":{\"backgroundcolor\":\"#E5ECF6\",\"gridcolor\":\"white\",\"linecolor\":\"white\",\"showbackground\":true,\"ticks\":\"\",\"zerolinecolor\":\"white\",\"gridwidth\":2},\"yaxis\":{\"backgroundcolor\":\"#E5ECF6\",\"gridcolor\":\"white\",\"linecolor\":\"white\",\"showbackground\":true,\"ticks\":\"\",\"zerolinecolor\":\"white\",\"gridwidth\":2},\"zaxis\":{\"backgroundcolor\":\"#E5ECF6\",\"gridcolor\":\"white\",\"linecolor\":\"white\",\"showbackground\":true,\"ticks\":\"\",\"zerolinecolor\":\"white\",\"gridwidth\":2}},\"shapedefaults\":{\"line\":{\"color\":\"#2a3f5f\"}},\"annotationdefaults\":{\"arrowcolor\":\"#2a3f5f\",\"arrowhead\":0,\"arrowwidth\":1},\"geo\":{\"bgcolor\":\"white\",\"landcolor\":\"#E5ECF6\",\"subunitcolor\":\"white\",\"showland\":true,\"showlakes\":true,\"lakecolor\":\"white\"},\"title\":{\"x\":0.05},\"mapbox\":{\"style\":\"light\"}}},\"title\":{\"text\":\"3D Scatter Plot\"},\"scene\":{\"xaxis\":{\"title\":{\"text\":\"X\"}},\"yaxis\":{\"title\":{\"text\":\"Y\"}},\"zaxis\":{\"title\":{\"text\":\"Z\"}}}},                        {\"responsive\": true}                    ).then(function(){\n",
              "                            \n",
              "var gd = document.getElementById('47a8bbeb-3ff5-43be-9055-9e47c0d2df3b');\n",
              "var x = new MutationObserver(function (mutations, observer) {{\n",
              "        var display = window.getComputedStyle(gd).display;\n",
              "        if (!display || display === 'none') {{\n",
              "            console.log([gd, 'removed!']);\n",
              "            Plotly.purge(gd);\n",
              "            observer.disconnect();\n",
              "        }}\n",
              "}});\n",
              "\n",
              "// Listen for the removal of the full notebook cells\n",
              "var notebookContainer = gd.closest('#notebook-container');\n",
              "if (notebookContainer) {{\n",
              "    x.observe(notebookContainer, {childList: true});\n",
              "}}\n",
              "\n",
              "// Listen for the clearing of the current output cell\n",
              "var outputEl = gd.closest('.output');\n",
              "if (outputEl) {{\n",
              "    x.observe(outputEl, {childList: true});\n",
              "}}\n",
              "\n",
              "                        })                };                            </script>        </div>\n",
              "</body>\n",
              "</html>"
            ]
          },
          "metadata": {}
        }
      ]
    }
  ]
}